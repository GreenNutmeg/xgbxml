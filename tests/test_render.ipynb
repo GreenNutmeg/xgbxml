{
 "cells": [
  {
   "cell_type": "code",
   "execution_count": 1,
   "id": "b3c19824",
   "metadata": {},
   "outputs": [
    {
     "data": {
      "text/html": [
       "<div id=\"glowscript\" class=\"glowscript\"></div>"
      ],
      "text/plain": [
       "<IPython.core.display.HTML object>"
      ]
     },
     "metadata": {},
     "output_type": "display_data"
    },
    {
     "data": {
      "application/javascript": [
       "if (typeof Jupyter !== \"undefined\") { window.__context = { glowscript_container: $(\"#glowscript\").removeAttr(\"id\")};}else{ element.textContent = ' ';}"
      ],
      "text/plain": [
       "<IPython.core.display.Javascript object>"
      ]
     },
     "metadata": {},
     "output_type": "display_data"
    },
    {
     "ename": "ImportError",
     "evalue": "cannot import name 'SimplePolygon' from 'crossproduct' (c:\\users\\cvskf\\onedrive - loughborough university\\_git\\stevenkfirth\\crossproduct\\crossproduct\\__init__.py)",
     "output_type": "error",
     "traceback": [
      "\u001b[1;31m---------------------------------------------------------------------------\u001b[0m",
      "\u001b[1;31mImportError\u001b[0m                               Traceback (most recent call last)",
      "\u001b[1;32m<ipython-input-1-53520288b6fc>\u001b[0m in \u001b[0;36m<module>\u001b[1;34m\u001b[0m\n\u001b[1;32m----> 1\u001b[1;33m \u001b[1;32mfrom\u001b[0m \u001b[0mgbxml\u001b[0m \u001b[1;32mimport\u001b[0m \u001b[0mget_parser\u001b[0m\u001b[1;33m,\u001b[0m \u001b[0mcreate_gbXML\u001b[0m\u001b[1;33m\u001b[0m\u001b[1;33m\u001b[0m\u001b[0m\n\u001b[0m\u001b[0;32m      2\u001b[0m \u001b[1;32mfrom\u001b[0m \u001b[0mlxml\u001b[0m \u001b[1;32mimport\u001b[0m \u001b[0metree\u001b[0m\u001b[1;33m\u001b[0m\u001b[1;33m\u001b[0m\u001b[0m\n\u001b[0;32m      3\u001b[0m \u001b[0mfp\u001b[0m\u001b[1;33m=\u001b[0m\u001b[1;34mr'files\\gbXMLStandard.xml'\u001b[0m\u001b[1;33m\u001b[0m\u001b[1;33m\u001b[0m\u001b[0m\n\u001b[0;32m      4\u001b[0m \u001b[0mparser\u001b[0m\u001b[1;33m=\u001b[0m\u001b[0mget_parser\u001b[0m\u001b[1;33m(\u001b[0m\u001b[0mversion\u001b[0m\u001b[1;33m=\u001b[0m\u001b[1;34m'0.37'\u001b[0m\u001b[1;33m)\u001b[0m\u001b[1;33m\u001b[0m\u001b[1;33m\u001b[0m\u001b[0m\n\u001b[0;32m      5\u001b[0m \u001b[0mtree\u001b[0m \u001b[1;33m=\u001b[0m \u001b[0metree\u001b[0m\u001b[1;33m.\u001b[0m\u001b[0mparse\u001b[0m\u001b[1;33m(\u001b[0m\u001b[0mfp\u001b[0m\u001b[1;33m,\u001b[0m\u001b[0mparser\u001b[0m\u001b[1;33m)\u001b[0m\u001b[1;33m\u001b[0m\u001b[1;33m\u001b[0m\u001b[0m\n",
      "\u001b[1;32mc:\\users\\cvskf\\onedrive - loughborough university\\_git\\stevenkfirth\\gbxml\\gbxml\\__init__.py\u001b[0m in \u001b[0;36m<module>\u001b[1;34m\u001b[0m\n\u001b[0;32m      1\u001b[0m \u001b[1;31m# -*- coding: utf-8 -*-\u001b[0m\u001b[1;33m\u001b[0m\u001b[1;33m\u001b[0m\u001b[1;33m\u001b[0m\u001b[0m\n\u001b[0;32m      2\u001b[0m \u001b[1;33m\u001b[0m\u001b[0m\n\u001b[1;32m----> 3\u001b[1;33m \u001b[1;32mfrom\u001b[0m \u001b[1;33m.\u001b[0m\u001b[0mparser\u001b[0m \u001b[1;32mimport\u001b[0m \u001b[0mcreate_gbXML\u001b[0m\u001b[1;33m\u001b[0m\u001b[1;33m\u001b[0m\u001b[0m\n\u001b[0m\u001b[0;32m      4\u001b[0m \u001b[1;32mfrom\u001b[0m \u001b[1;33m.\u001b[0m\u001b[0mparser\u001b[0m \u001b[1;32mimport\u001b[0m \u001b[0mget_parser\u001b[0m\u001b[1;33m\u001b[0m\u001b[1;33m\u001b[0m\u001b[0m\n",
      "\u001b[1;32mc:\\users\\cvskf\\onedrive - loughborough university\\_git\\stevenkfirth\\gbxml\\gbxml\\parser.py\u001b[0m in \u001b[0;36m<module>\u001b[1;34m\u001b[0m\n\u001b[0;32m      9\u001b[0m \u001b[1;32mfrom\u001b[0m \u001b[1;33m.\u001b[0m \u001b[1;32mimport\u001b[0m \u001b[0mschema_dicts\u001b[0m\u001b[1;33m\u001b[0m\u001b[1;33m\u001b[0m\u001b[0m\n\u001b[0;32m     10\u001b[0m \u001b[1;32mfrom\u001b[0m \u001b[1;33m.\u001b[0m\u001b[0mgbElement\u001b[0m \u001b[1;32mimport\u001b[0m \u001b[0mgbElement\u001b[0m\u001b[1;33m\u001b[0m\u001b[1;33m\u001b[0m\u001b[0m\n\u001b[1;32m---> 11\u001b[1;33m \u001b[1;32mfrom\u001b[0m \u001b[1;33m.\u001b[0m \u001b[1;32mimport\u001b[0m \u001b[0mgbxml\u001b[0m  \u001b[1;31m# not the gbxml package but the gbxml module...\u001b[0m\u001b[1;33m\u001b[0m\u001b[1;33m\u001b[0m\u001b[0m\n\u001b[0m\u001b[0;32m     12\u001b[0m \u001b[1;33m\u001b[0m\u001b[0m\n\u001b[0;32m     13\u001b[0m \u001b[1;33m\u001b[0m\u001b[0m\n",
      "\u001b[1;32mc:\\users\\cvskf\\onedrive - loughborough university\\_git\\stevenkfirth\\gbxml\\gbxml\\gbxml.py\u001b[0m in \u001b[0;36m<module>\u001b[1;34m\u001b[0m\n\u001b[0;32m      1\u001b[0m \u001b[1;31m# -*- coding: utf-8 -*-\u001b[0m\u001b[1;33m\u001b[0m\u001b[1;33m\u001b[0m\u001b[1;33m\u001b[0m\u001b[0m\n\u001b[0;32m      2\u001b[0m \u001b[1;33m\u001b[0m\u001b[0m\n\u001b[1;32m----> 3\u001b[1;33m \u001b[1;32mfrom\u001b[0m \u001b[0mcrossproduct\u001b[0m \u001b[1;32mimport\u001b[0m \u001b[0mPoint\u001b[0m\u001b[1;33m,\u001b[0m \u001b[0mVector\u001b[0m\u001b[1;33m,\u001b[0m \u001b[0mSimplePolygon\u001b[0m\u001b[1;33m,\u001b[0m \u001b[0mSimplePolygons\u001b[0m\u001b[1;33m\u001b[0m\u001b[1;33m\u001b[0m\u001b[0m\n\u001b[0m\u001b[0;32m      4\u001b[0m \u001b[1;32mimport\u001b[0m \u001b[0mmath\u001b[0m\u001b[1;33m\u001b[0m\u001b[1;33m\u001b[0m\u001b[0m\n\u001b[0;32m      5\u001b[0m \u001b[1;33m\u001b[0m\u001b[0m\n",
      "\u001b[1;31mImportError\u001b[0m: cannot import name 'SimplePolygon' from 'crossproduct' (c:\\users\\cvskf\\onedrive - loughborough university\\_git\\stevenkfirth\\crossproduct\\crossproduct\\__init__.py)"
     ]
    }
   ],
   "source": [
    "from gbxml import get_parser, create_gbXML\n",
    "from lxml import etree\n",
    "fp=r'files\\gbXMLStandard.xml'\n",
    "parser=get_parser(version='0.37')\n",
    "tree = etree.parse(fp,parser)\n",
    "from vpython import *"
   ]
  },
  {
   "cell_type": "code",
   "execution_count": null,
   "id": "92957d32",
   "metadata": {},
   "outputs": [],
   "source": [
    "# PlanarGeometry\n",
    "def test():\n",
    "    gbXML=tree.getroot()\n",
    "    pg=gbXML.Campus.Surface.PlanarGeometry\n",
    "    scene=pg.render()\n",
    "test()"
   ]
  },
  {
   "cell_type": "code",
   "execution_count": null,
   "id": "565e3fdc",
   "metadata": {},
   "outputs": [],
   "source": [
    "def add_axis(scene,length=10):\n",
    "    scene.camera.rotate(angle=pi/2, axis=vector(1,0,0), origin=vector(0,0,0))\n",
    "    scene.camera.rotate(angle=pi/8, axis=vector(0,0,1), origin=vector(0,0,0))\n",
    "    arrow(pos=vector(0,0,0), axis=vector(length,0,0), shaftwidth=0.1, color=color.black)\n",
    "    label( pos=vec(length+1,0,0), text='X', color=color.black, box=False , opacity=0)\n",
    "    arrow(pos=vector(0,0,0), axis=vector(0,length,0), shaftwidth=0.1, color=color.black)\n",
    "    label( pos=vec(0,length+1,0), text='Y', color=color.black, box=False , opacity=0)\n",
    "    arrow(pos=vector(0,0,0), axis=vector(0,0,length+1), shaftwidth=0.1, color=color.black)\n",
    "    label( pos=vec(0,0,length+1), text='Z', color=color.black, box=False , opacity=0)"
   ]
  },
  {
   "cell_type": "code",
   "execution_count": null,
   "id": "ea6f931c",
   "metadata": {},
   "outputs": [],
   "source": [
    "pgs=[x.get_SimplePolygon() for x in tree.getroot().Campus.Surfaces]\n",
    "tris=[pg.triangles for pg in pgs]\n",
    "tris=[item for sublist in tris for item in sublist]\n",
    "tris"
   ]
  },
  {
   "cell_type": "code",
   "execution_count": null,
   "id": "496129dc",
   "metadata": {},
   "outputs": [],
   "source": [
    "scene=canvas(background=color.gray(0.9))\n",
    "add_axis(scene,400)\n",
    "\n",
    "for tri in tris:\n",
    "    a = vertex( pos=vec(*tri[0]),color=color.blue, opacity=0.5 )\n",
    "    b = vertex( pos=vec(*tri[1]),color=color.blue, opacity=0.5 )\n",
    "    c = vertex( pos=vec(*tri[2]),color=color.blue, opacity=0.5 )\n",
    "    T = triangle( v0=a, v1=b, v2=c )\n",
    "    \n",
    "for pg in pgs:\n",
    "    curve(pos=[vec(*pt) for pt in pg],color=color.black,radius=0.5)\n",
    "    #break"
   ]
  },
  {
   "cell_type": "code",
   "execution_count": null,
   "id": "31fe34cd",
   "metadata": {},
   "outputs": [],
   "source": [
    "scene=canvas()\n",
    "for i in range(100):\n",
    "    print(i, end=' ')\n",
    "    a = vertex( pos=vec(i,0,0) )\n",
    "    b = vertex( pos=vec(i+1,0,0) )\n",
    "    c = vertex( pos=vec(i+1,1,0) )\n",
    "    T = triangle( v0=a, v1=b, v2=c )"
   ]
  },
  {
   "cell_type": "code",
   "execution_count": null,
   "id": "e023a560",
   "metadata": {},
   "outputs": [],
   "source": [
    "# Campus surfaces\n",
    "def test():\n",
    "    gbXML=tree.getroot()\n",
    "    ca=gbXML.Campus\n",
    "    scene=ca.render_surfaces()\n",
    "test()"
   ]
  },
  {
   "cell_type": "code",
   "execution_count": null,
   "id": "e23009f2",
   "metadata": {},
   "outputs": [],
   "source": [
    "# Surface\n",
    "def test():\n",
    "    gbXML=tree.getroot()\n",
    "    su=gbXML.Campus.Surface\n",
    "    scene=pg.render()\n",
    "test()"
   ]
  },
  {
   "cell_type": "code",
   "execution_count": null,
   "id": "e46698e9",
   "metadata": {},
   "outputs": [],
   "source": []
  },
  {
   "cell_type": "code",
   "execution_count": null,
   "id": "bc5febed",
   "metadata": {},
   "outputs": [],
   "source": []
  },
  {
   "cell_type": "code",
   "execution_count": null,
   "id": "8eb1b174",
   "metadata": {},
   "outputs": [],
   "source": []
  },
  {
   "cell_type": "code",
   "execution_count": null,
   "id": "4922773a",
   "metadata": {},
   "outputs": [],
   "source": []
  },
  {
   "cell_type": "code",
   "execution_count": null,
   "id": "4734842a",
   "metadata": {},
   "outputs": [],
   "source": []
  },
  {
   "cell_type": "code",
   "execution_count": null,
   "id": "98ce35c9",
   "metadata": {},
   "outputs": [],
   "source": [
    "import numpy as np\n",
    "points = np.array([[0, 0], [0.9, 0.1], [1, 0], [1, 1]])\n",
    "from scipy.spatial import Delaunay\n",
    "tri = Delaunay(points)\n",
    "import matplotlib.pyplot as plt\n",
    "plt.triplot(points[:,0], points[:,1], tri.simplices)\n",
    "plt.plot(points[:,0], points[:,1], 'o')\n",
    "plt.show()"
   ]
  },
  {
   "cell_type": "code",
   "execution_count": null,
   "id": "cdcd48d0",
   "metadata": {},
   "outputs": [],
   "source": [
    "import matplotlib.pyplot as plt\n",
    "import numpy as np\n",
    "\n",
    "import triangle as tr\n",
    "\n",
    "A = dict(vertices=np.array(((0, 0), (1, 0), (1, 1), (0.9, .1))),\n",
    "         segments=np.array(((0, 1), (1, 2), (2, 3), (3, 0))))\n",
    "B = tr.triangulate(A, 'p')\n",
    "tr.compare(plt, A, B)\n",
    "plt.show()"
   ]
  },
  {
   "cell_type": "code",
   "execution_count": null,
   "id": "2a2dc26c",
   "metadata": {},
   "outputs": [],
   "source": [
    "B"
   ]
  }
 ],
 "metadata": {
  "kernelspec": {
   "display_name": "Python 3",
   "language": "python",
   "name": "python3"
  },
  "language_info": {
   "codemirror_mode": {
    "name": "ipython",
    "version": 3
   },
   "file_extension": ".py",
   "mimetype": "text/x-python",
   "name": "python",
   "nbconvert_exporter": "python",
   "pygments_lexer": "ipython3",
   "version": "3.8.10"
  }
 },
 "nbformat": 4,
 "nbformat_minor": 5
}
