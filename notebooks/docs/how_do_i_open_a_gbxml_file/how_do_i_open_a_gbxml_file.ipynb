{
 "cells": [
  {
   "cell_type": "markdown",
   "id": "2e4e524b",
   "metadata": {},
   "source": [
    "# How do I open a gbXML file\n",
    "\n",
    "This notebook demonstrates how to open a gbXML file using the Python package xgbxml.\n"
   ]
  },
  {
   "cell_type": "markdown",
   "id": "4d303f30",
   "metadata": {},
   "source": [
    "## Opening a gbXML file using lxml"
   ]
  },
  {
   "cell_type": "code",
   "execution_count": 1,
   "id": "2cb732fc",
   "metadata": {},
   "outputs": [
    {
     "name": "stdout",
     "output_type": "stream",
     "text": [
      "<class 'lxml.etree._Element'>\n",
      "1159\n",
      "{'useSIUnitsForResults': 'false', 'temperatureUnit': 'C', 'lengthUnit': 'Feet', 'areaUnit': 'SquareFeet', 'volumeUnit': 'CubicFeet', 'version': '0.37'}\n"
     ]
    }
   ],
   "source": [
    "from lxml import etree\n",
    "\n",
    "tree=etree.parse('gbXMLStandard.xml')\n",
    "gbxml=tree.getroot()\n",
    "\n",
    "print(type(gbxml))        # prints \"<class 'lxml.etree._Element'>\"\n",
    "\n",
    "print(len(list(gbxml)))   # prints \"1159\" \n",
    "\n",
    "print (gbxml.attrib)      # prints \"{'useSIUnitsForResults': 'false', 'temperatureUnit': 'C', 'lengthUnit': 'Feet', \n",
    "                          #          'areaUnit': 'SquareFeet', 'volumeUnit': 'CubicFeet', 'version': '0.37'}\""
   ]
  },
  {
   "cell_type": "markdown",
   "id": "c4052288",
   "metadata": {},
   "source": [
    "## Opening a gbXML file using xgbxml"
   ]
  },
  {
   "cell_type": "code",
   "execution_count": 5,
   "id": "08ba41e3",
   "metadata": {},
   "outputs": [
    {
     "name": "stdout",
     "output_type": "stream",
     "text": [
      "<class 'xgbxml.xgbxml.gbXML'>\n",
      "1159\n",
      "{'useSIUnitsForResults': 'false', 'temperatureUnit': 'C', 'lengthUnit': 'Feet', 'areaUnit': 'SquareFeet', 'volumeUnit': 'CubicFeet', 'version': '0.37'}\n"
     ]
    }
   ],
   "source": [
    "from lxml import etree\n",
    "import xgbxml\n",
    "\n",
    "parser=xgbxml.get_parser('0.37')   \n",
    "\n",
    "tree=etree.parse('gbXMLStandard.xml', parser)\n",
    "gbxml=tree.getroot()\n",
    "\n",
    "print(type(gbxml))        # prints \"<class 'xgbxml.xgbxml.gbXML'>\"\n",
    "\n",
    "print(len(list(gbxml)))   # prints \"1159\" \n",
    "\n",
    "print (gbxml.attrib)      # prints \"{'useSIUnitsForResults': 'false', 'temperatureUnit': 'C', 'lengthUnit': 'Feet', \n",
    "                          #          'areaUnit': 'SquareFeet', 'volumeUnit': 'CubicFeet', 'version': '0.37'}\""
   ]
  }
 ],
 "metadata": {
  "kernelspec": {
   "display_name": "Python 3 (ipykernel)",
   "language": "python",
   "name": "python3"
  },
  "language_info": {
   "codemirror_mode": {
    "name": "ipython",
    "version": 3
   },
   "file_extension": ".py",
   "mimetype": "text/x-python",
   "name": "python",
   "nbconvert_exporter": "python",
   "pygments_lexer": "ipython3",
   "version": "3.9.7"
  }
 },
 "nbformat": 4,
 "nbformat_minor": 5
}
