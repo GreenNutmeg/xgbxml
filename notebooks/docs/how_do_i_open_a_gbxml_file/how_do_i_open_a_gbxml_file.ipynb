{
 "cells": [
  {
   "cell_type": "markdown",
   "id": "f9ceed4c",
   "metadata": {},
   "source": [
    "# How do I open a gbXML file\n",
    "\n",
    "This notebook demonstrates how to open a gbXML file using the Python package xgbxml.\n"
   ]
  },
  {
   "cell_type": "markdown",
   "id": "0bbb7366",
   "metadata": {},
   "source": [
    "## Opening a gbXML file using lxml"
   ]
  },
  {
   "cell_type": "code",
   "execution_count": 1,
   "id": "0252b055",
   "metadata": {},
   "outputs": [
    {
     "name": "stdout",
     "output_type": "stream",
     "text": [
      "<class 'lxml.etree._Element'>\n",
      "1159\n",
      "{'useSIUnitsForResults': 'false', 'temperatureUnit': 'C', 'lengthUnit': 'Feet', 'areaUnit': 'SquareFeet', 'volumeUnit': 'CubicFeet', 'version': '0.37'}\n"
     ]
    }
   ],
   "source": [
    "from lxml import etree\n",
    "\n",
    "tree=etree.parse('gbXMLStandard.xml')\n",
    "gbxml=tree.getroot()\n",
    "\n",
    "print(type(gbxml))        # prints \"<class 'lxml.etree._Element'>\"\n",
    "\n",
    "print(len(list(gbxml)))   # prints \"1159\" \n",
    "\n",
    "print (gbxml.attrib)      # prints \"{'useSIUnitsForResults': 'false', 'temperatureUnit': 'C', 'lengthUnit': 'Feet', \n",
    "                          #          'areaUnit': 'SquareFeet', 'volumeUnit': 'CubicFeet', 'version': '0.37'}\""
   ]
  },
  {
   "cell_type": "markdown",
   "id": "bea468e7",
   "metadata": {},
   "source": [
    "## Opening a gbXML file using xgbxml"
   ]
  },
  {
   "cell_type": "code",
   "execution_count": 2,
   "id": "43ce6871",
   "metadata": {},
   "outputs": [
    {
     "ename": "NameError",
     "evalue": "name 'xgbxml' is not defined",
     "output_type": "error",
     "traceback": [
      "\u001b[1;31m---------------------------------------------------------------------------\u001b[0m",
      "\u001b[1;31mNameError\u001b[0m                                 Traceback (most recent call last)",
      "\u001b[1;32m~\\AppData\\Local\\Temp/ipykernel_10180/112891043.py\u001b[0m in \u001b[0;36m<module>\u001b[1;34m\u001b[0m\n\u001b[0;32m      2\u001b[0m \u001b[1;32mfrom\u001b[0m \u001b[0mxgbxml\u001b[0m \u001b[1;32mimport\u001b[0m \u001b[0mget_parser\u001b[0m\u001b[1;33m\u001b[0m\u001b[1;33m\u001b[0m\u001b[0m\n\u001b[0;32m      3\u001b[0m \u001b[1;33m\u001b[0m\u001b[0m\n\u001b[1;32m----> 4\u001b[1;33m \u001b[0mparser\u001b[0m\u001b[1;33m=\u001b[0m\u001b[0mxgbxml\u001b[0m\u001b[1;33m.\u001b[0m\u001b[0mget_parser\u001b[0m\u001b[1;33m(\u001b[0m\u001b[1;34m'0.37'\u001b[0m\u001b[1;33m)\u001b[0m\u001b[1;33m\u001b[0m\u001b[1;33m\u001b[0m\u001b[0m\n\u001b[0m\u001b[0;32m      5\u001b[0m \u001b[1;33m\u001b[0m\u001b[0m\n\u001b[0;32m      6\u001b[0m \u001b[0mtree\u001b[0m\u001b[1;33m=\u001b[0m\u001b[0metree\u001b[0m\u001b[1;33m.\u001b[0m\u001b[0mparse\u001b[0m\u001b[1;33m(\u001b[0m\u001b[1;34m'gbXMLStandard.xml'\u001b[0m\u001b[1;33m)\u001b[0m\u001b[1;33m\u001b[0m\u001b[1;33m\u001b[0m\u001b[0m\n",
      "\u001b[1;31mNameError\u001b[0m: name 'xgbxml' is not defined"
     ]
    }
   ],
   "source": [
    "from lxml import etree\n",
    "from xgbxml import get_parser\n",
    "\n",
    "parser=xgbxml.get_parser('0.37')   \n",
    "\n",
    "tree=etree.parse('gbXMLStandard.xml')\n",
    "gbxml=tree.getroot(parser)\n",
    "\n",
    "print(type(gbxml))        # prints \"<class 'lxml.etree._Element'>\"\n",
    "\n",
    "print(len(list(gbxml)))   # prints \"1159\" \n",
    "\n",
    "print (gbxml.attrib)      # prints \"{'useSIUnitsForResults': 'false', 'temperatureUnit': 'C', 'lengthUnit': 'Feet', \n",
    "                          #          'areaUnit': 'SquareFeet', 'volumeUnit': 'CubicFeet', 'version': '0.37'}\""
   ]
  }
 ],
 "metadata": {
  "kernelspec": {
   "display_name": "Python 3 (ipykernel)",
   "language": "python",
   "name": "python3"
  },
  "language_info": {
   "codemirror_mode": {
    "name": "ipython",
    "version": 3
   },
   "file_extension": ".py",
   "mimetype": "text/x-python",
   "name": "python",
   "nbconvert_exporter": "python",
   "pygments_lexer": "ipython3",
   "version": "3.9.7"
  }
 },
 "nbformat": 4,
 "nbformat_minor": 5
}
