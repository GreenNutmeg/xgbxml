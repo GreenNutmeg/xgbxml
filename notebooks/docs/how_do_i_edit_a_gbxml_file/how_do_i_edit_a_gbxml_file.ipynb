{
 "cells": [
  {
   "cell_type": "markdown",
   "id": "7c4bfcf3",
   "metadata": {},
   "source": [
    "# How do I edit a gbXML file\n",
    "\n",
    "This notebook demonstrates how to edit a gbXML file using the Python package xgbxml.\n"
   ]
  },
  {
   "cell_type": "markdown",
   "id": "805154c1",
   "metadata": {},
   "source": [
    "## Editing a gbXML file using lxml"
   ]
  },
  {
   "cell_type": "code",
   "execution_count": 10,
   "id": "46a364cb",
   "metadata": {},
   "outputs": [
    {
     "name": "stdout",
     "output_type": "stream",
     "text": [
      "F\n",
      "{http://www.gbxml.org/schema}Construction\n",
      "my_new_station_id\n"
     ]
    }
   ],
   "source": [
    "from lxml import etree\n",
    "\n",
    "tree=etree.parse('gbXMLStandard.xml')\n",
    "gbxml=tree.getroot()\n",
    "\n",
    "# edit an attribute\n",
    "gbxml.attrib['temperatureUnit']='F'\n",
    "print(gbxml.attrib['temperatureUnit'])  \n",
    "# prints \"F\"\n",
    "\n",
    "# add a child node\n",
    "new_node=etree.SubElement(gbxml,'{http://www.gbxml.org/schema}Construction')\n",
    "print(new_node.tag)  \n",
    "# prints \"{http://www.gbxml.org/schema}Construction\"\n",
    "\n",
    "# edit node text\n",
    "gbxml[0][0][0].text = 'my_new_station_id'\n",
    "print(gbxml[0][0][0].text)\n",
    "# prints \"my_new_station_id\"\n"
   ]
  },
  {
   "cell_type": "markdown",
   "id": "6efa51ad",
   "metadata": {},
   "source": [
    "## Editing a gbXML file using xgbxml"
   ]
  },
  {
   "cell_type": "code",
   "execution_count": 12,
   "id": "a714b7dd",
   "metadata": {},
   "outputs": [
    {
     "name": "stdout",
     "output_type": "stream",
     "text": [
      "F\n",
      "{http://www.gbxml.org/schema}Construction\n",
      "my_new_station_id\n"
     ]
    }
   ],
   "source": [
    "from lxml import etree\n",
    "import xgbxml\n",
    "\n",
    "parser=xgbxml.get_parser('0.37')   \n",
    "\n",
    "tree=etree.parse('gbXMLStandard.xml', parser)\n",
    "gbxml=tree.getroot()\n",
    "\n",
    "# edit an attribute\n",
    "gbxml.temperatureUnit='F'\n",
    "print(gbxml.temperatureUnit)  \n",
    "# prints \"F\"\n",
    "\n",
    "# add a child node\n",
    "new_node=gbxml.add_Construction()\n",
    "print(new_node.tag)  \n",
    "# prints \"{http://www.gbxml.org/schema}Construction\"\n",
    "\n",
    "# edit node text\n",
    "gbxml.Campus.Location.StationId.text = 'my_new_station_id'\n",
    "print(gbxml.Campus.Location.StationId.text)\n",
    "# prints \"my_new_station_id\"\n"
   ]
  },
  {
   "cell_type": "markdown",
   "id": "07efc323",
   "metadata": {},
   "source": [
    "## Saving the gbXML file"
   ]
  },
  {
   "cell_type": "code",
   "execution_count": 1,
   "id": "85710998",
   "metadata": {},
   "outputs": [],
   "source": [
    "from lxml import etree\n",
    "import xgbxml\n",
    "\n",
    "parser=xgbxml.get_parser('0.37')   \n",
    "\n",
    "tree=etree.parse('gbXMLStandard.xml', parser)\n",
    "gbxml=tree.getroot()\n",
    "\n",
    "# edit an attribute\n",
    "gbxml.temperatureUnit='F'\n",
    "\n",
    "# save the edited file\n",
    "tree.write('edited_gbxml_file.xml')\n"
   ]
  }
 ],
 "metadata": {
  "kernelspec": {
   "display_name": "Python 3 (ipykernel)",
   "language": "python",
   "name": "python3"
  },
  "language_info": {
   "codemirror_mode": {
    "name": "ipython",
    "version": 3
   },
   "file_extension": ".py",
   "mimetype": "text/x-python",
   "name": "python",
   "nbconvert_exporter": "python",
   "pygments_lexer": "ipython3",
   "version": "3.9.7"
  }
 },
 "nbformat": 4,
 "nbformat_minor": 5
}
