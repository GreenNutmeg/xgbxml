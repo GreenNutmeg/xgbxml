{
 "cells": [
  {
   "cell_type": "markdown",
   "id": "aa70bc3a",
   "metadata": {},
   "source": [
    "# How do I query a gbXML file?\n",
    "\n",
    "This notebook demonstrates how to open a gbXML file using the Python package xgbxml."
   ]
  },
  {
   "cell_type": "markdown",
   "id": "333e87a1",
   "metadata": {},
   "source": [
    "## Querying a gbXML file using lxml methods"
   ]
  },
  {
   "cell_type": "code",
   "execution_count": 4,
   "id": "f417374f",
   "metadata": {},
   "outputs": [
    {
     "name": "stdout",
     "output_type": "stream",
     "text": [
      "0.37\n",
      "{http://www.gbxml.org/schema}Campus\n",
      "52939_2004\n"
     ]
    }
   ],
   "source": [
    "from lxml import etree\n",
    "\n",
    "tree=etree.parse('gbXMLStandard.xml')\n",
    "gbxml=tree.getroot()\n",
    "\n",
    "# query an attribute\n",
    "print(gbxml.attrib['version'])  \n",
    "# prints \"0.37\"\n",
    "\n",
    "# query a child element\n",
    "print(gbxml[0].tag)\n",
    "# prints \"{http://www.gbxml.org/schema}Campus\"\n",
    "\n",
    "# query element text\n",
    "print(gbxml[0][0][0].text)\n",
    "# prints \"52939_2004\""
   ]
  },
  {
   "cell_type": "markdown",
   "id": "751e8960",
   "metadata": {},
   "source": [
    "## Querying a gbXML file using XPATH"
   ]
  },
  {
   "cell_type": "code",
   "execution_count": 28,
   "id": "82ae80fa",
   "metadata": {},
   "outputs": [
    {
     "name": "stdout",
     "output_type": "stream",
     "text": [
      "0.37\n",
      "{http://www.gbxml.org/schema}Campus\n",
      "52939_2004\n"
     ]
    }
   ],
   "source": [
    "from lxml import etree\n",
    "\n",
    "tree=etree.parse('gbXMLStandard.xml')\n",
    "gbxml=tree.getroot()\n",
    "\n",
    "ns={'gbxml':'http://www.gbxml.org/schema'}\n",
    "\n",
    "# query an attribute\n",
    "print(gbxml.xpath('./@version')[0])  \n",
    "# prints \"0.37\"\n",
    "\n",
    "# query a child element\n",
    "print(gbxml.xpath(\"./gbxml:*\", namespaces=ns)[0].tag)\n",
    "# prints \"{http://www.gbxml.org/schema}Campus\"\n",
    "\n",
    "# query element text\n",
    "print(gbxml.xpath(\".//gbxml:StationId/text()\", namespaces=ns)[0])\n",
    "# prints \"52939_2004\""
   ]
  },
  {
   "cell_type": "markdown",
   "id": "975657ed",
   "metadata": {},
   "source": [
    "## Additional querying methods provided by xgbxml"
   ]
  },
  {
   "cell_type": "code",
   "execution_count": 30,
   "id": "25c4e73d",
   "metadata": {},
   "outputs": [
    {
     "name": "stdout",
     "output_type": "stream",
     "text": [
      "0.37\n",
      "{http://www.gbxml.org/schema}Campus\n",
      "52939_2004\n"
     ]
    }
   ],
   "source": [
    "from lxml import etree\n",
    "import xgbxml\n",
    "\n",
    "parser=xgbxml.get_parser('0.37')   \n",
    "\n",
    "tree=etree.parse('gbXMLStandard.xml', parser)\n",
    "gbxml=tree.getroot()\n",
    "\n",
    "# query an attribute\n",
    "print(gbxml.version)  \n",
    "# prints \"0.37\"\n",
    "\n",
    "# query a child element\n",
    "print(gbxml.Campus.tag)\n",
    "# prints \"{http://www.gbxml.org/schema}Campus\"\n",
    "\n",
    "# query element text\n",
    "print(gbxml.Campus.Location.StationId.text)\n",
    "# prints \"52939_2004\""
   ]
  },
  {
   "cell_type": "markdown",
   "id": "9dfe5857",
   "metadata": {},
   "source": [
    "## Advanced querying using xgbxml"
   ]
  },
  {
   "cell_type": "code",
   "execution_count": 34,
   "id": "4e4c6abc",
   "metadata": {},
   "outputs": [
    {
     "name": "stdout",
     "output_type": "stream",
     "text": [
      "2590\n",
      "138\n"
     ]
    }
   ],
   "source": [
    "from lxml import etree\n",
    "import xgbxml\n",
    "\n",
    "parser=xgbxml.get_parser('0.37')   \n",
    "\n",
    "tree=etree.parse('gbXMLStandard.xml', parser)\n",
    "gbxml=tree.getroot()\n",
    "\n",
    "print(len(gbxml.Campus.Surfaces))\n",
    "# prints \"2590\"\n",
    "\n",
    "print(len(gbxml.Campus.Surfaces.Openings))\n",
    "# prints \"138\""
   ]
  }
 ],
 "metadata": {
  "kernelspec": {
   "display_name": "Python 3 (ipykernel)",
   "language": "python",
   "name": "python3"
  },
  "language_info": {
   "codemirror_mode": {
    "name": "ipython",
    "version": 3
   },
   "file_extension": ".py",
   "mimetype": "text/x-python",
   "name": "python",
   "nbconvert_exporter": "python",
   "pygments_lexer": "ipython3",
   "version": "3.9.7"
  }
 },
 "nbformat": 4,
 "nbformat_minor": 5
}
