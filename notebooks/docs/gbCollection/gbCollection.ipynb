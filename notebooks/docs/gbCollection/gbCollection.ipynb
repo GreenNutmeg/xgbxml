{
 "cells": [
  {
   "cell_type": "markdown",
   "id": "05a2ffc3",
   "metadata": {},
   "source": [
    "# gbCollection"
   ]
  },
  {
   "cell_type": "code",
   "execution_count": 1,
   "id": "58fae806",
   "metadata": {},
   "outputs": [
    {
     "name": "stdout",
     "output_type": "stream",
     "text": [
      "gbCollection(<Building (id=\"aim0013\")>)\n",
      "<class 'xgbxml.xgbxml.gbCollection'>\n"
     ]
    }
   ],
   "source": [
    "from lxml import etree\n",
    "import xgbxml\n",
    "\n",
    "parser=xgbxml.get_parser()  # default is gbXML version 6.01\n",
    "\n",
    "tree=etree.parse('gbXMLStandard.xml', parser)\n",
    "gbxml=tree.getroot()\n",
    "buildings=gbxml.Campus.Buildings\n",
    "\n",
    "print(buildings)\n",
    "# prints \"gbCollection(<Building (id=\"aim0013\")>)\"\n",
    "\n",
    "print(type(buildings))\n",
    "# prints \"<class 'xgbxml.xgbxml.gbCollection'>\""
   ]
  },
  {
   "cell_type": "code",
   "execution_count": 8,
   "id": "cbb6565e",
   "metadata": {},
   "outputs": [
    {
     "name": "stdout",
     "output_type": "stream",
     "text": [
      "138\n",
      "<class 'xgbxml.xgbxml.gbCollection'>\n"
     ]
    }
   ],
   "source": [
    "from lxml import etree\n",
    "import xgbxml\n",
    "\n",
    "parser=xgbxml.get_parser()  # default is gbXML version 6.01\n",
    "\n",
    "tree=etree.parse('gbXMLStandard.xml', parser)\n",
    "gbxml=tree.getroot()\n",
    "openings=gbxml.Campus.Surfaces.Openings\n",
    "\n",
    "print(len(openings))\n",
    "# prints \"138\"\n",
    "\n",
    "print(type(openings))\n",
    "# <class 'xgbxml.xgbxml.gbCollection'>"
   ]
  },
  {
   "cell_type": "code",
   "execution_count": 10,
   "id": "6f4d7adf",
   "metadata": {},
   "outputs": [
    {
     "name": "stdout",
     "output_type": "stream",
     "text": [
      "138\n",
      "<class 'tuple'>\n",
      "('NonSlidingDoor', 'NonSlidingDoor', 'NonSlidingDoor', 'NonSlidingDoor', 'NonSlidingDoor', 'NonSlidingDoor', 'NonSlidingDoor', 'NonSlidingDoor', 'NonSlidingDoor', 'NonSlidingDoor', 'NonSlidingDoor', 'NonSlidingDoor', 'NonSlidingDoor', 'NonSlidingDoor', 'NonSlidingDoor', 'NonSlidingDoor', 'NonSlidingDoor', 'NonSlidingDoor', 'NonSlidingDoor', 'NonSlidingDoor', 'NonSlidingDoor', 'NonSlidingDoor', 'NonSlidingDoor', 'NonSlidingDoor', 'NonSlidingDoor', 'NonSlidingDoor', 'NonSlidingDoor', 'NonSlidingDoor', 'NonSlidingDoor', 'NonSlidingDoor', 'NonSlidingDoor', 'NonSlidingDoor', 'NonSlidingDoor', 'NonSlidingDoor', 'NonSlidingDoor', 'NonSlidingDoor', 'NonSlidingDoor', 'FixedWindow', 'FixedWindow', 'FixedWindow', 'FixedWindow', 'NonSlidingDoor', 'NonSlidingDoor', 'NonSlidingDoor', 'NonSlidingDoor', 'NonSlidingDoor', 'NonSlidingDoor', 'NonSlidingDoor', 'NonSlidingDoor', 'NonSlidingDoor', 'NonSlidingDoor', 'NonSlidingDoor', 'NonSlidingDoor', 'NonSlidingDoor', 'NonSlidingDoor', 'NonSlidingDoor', 'NonSlidingDoor', 'NonSlidingDoor', 'NonSlidingDoor', 'NonSlidingDoor', 'NonSlidingDoor', 'NonSlidingDoor', 'NonSlidingDoor', 'NonSlidingDoor', 'NonSlidingDoor', 'NonSlidingDoor', 'NonSlidingDoor', 'NonSlidingDoor', 'NonSlidingDoor', 'NonSlidingDoor', 'NonSlidingDoor', 'NonSlidingDoor', 'NonSlidingDoor', 'NonSlidingDoor', 'NonSlidingDoor', 'NonSlidingDoor', 'NonSlidingDoor', 'NonSlidingDoor', 'NonSlidingDoor', 'NonSlidingDoor', 'NonSlidingDoor', 'NonSlidingDoor', 'NonSlidingDoor', 'NonSlidingDoor', 'NonSlidingDoor', 'NonSlidingDoor', 'NonSlidingDoor', 'NonSlidingDoor', 'NonSlidingDoor', 'NonSlidingDoor', 'NonSlidingDoor', 'NonSlidingDoor', 'NonSlidingDoor', 'NonSlidingDoor', 'NonSlidingDoor', 'NonSlidingDoor', 'NonSlidingDoor', 'NonSlidingDoor', 'NonSlidingDoor', 'NonSlidingDoor', 'NonSlidingDoor', 'NonSlidingDoor', 'NonSlidingDoor', 'NonSlidingDoor', 'NonSlidingDoor', 'NonSlidingDoor', 'NonSlidingDoor', 'NonSlidingDoor', 'NonSlidingDoor', 'NonSlidingDoor', 'NonSlidingDoor', 'NonSlidingDoor', 'NonSlidingDoor', 'NonSlidingDoor', 'NonSlidingDoor', 'NonSlidingDoor', 'OperableWindow', 'OperableWindow', 'OperableWindow', 'OperableWindow', 'OperableWindow', 'OperableWindow', 'OperableWindow', 'OperableWindow', 'OperableWindow', 'OperableWindow', 'OperableWindow', 'OperableWindow', 'OperableWindow', 'OperableWindow', 'OperableWindow', 'OperableWindow', 'OperableWindow', 'OperableWindow', 'OperableWindow', 'OperableWindow', 'OperableWindow', 'OperableWindow')\n"
     ]
    }
   ],
   "source": [
    "from lxml import etree\n",
    "import xgbxml\n",
    "\n",
    "parser=xgbxml.get_parser()  # default is gbXML version 6.01\n",
    "\n",
    "tree=etree.parse('gbXMLStandard.xml', parser)\n",
    "gbxml=tree.getroot()\n",
    "opening_types=gbxml.Campus.Surfaces.Openings.openingType\n",
    "\n",
    "print(len(opening_types))\n",
    "# prints \"138\"\n",
    "\n",
    "print(type(opening_types))\n",
    "# prints \"<class 'tuple'>\"\n",
    "\n",
    "print(opening_types)\n",
    "# prints \"('NonSlidingDoor', 'NonSlidingDoor', 'NonSlidingDoor', ...)\""
   ]
  },
  {
   "cell_type": "code",
   "execution_count": 12,
   "id": "0c24fee6",
   "metadata": {},
   "outputs": [
    {
     "name": "stdout",
     "output_type": "stream",
     "text": [
      "138\n",
      "<class 'tuple'>\n",
      "(21.0, 21.000000056466668, 21.0, 21.000000011666668, 21.0, 21.0, 21.0, 42.0, 21.0, 21.0, 21.0, 21.000209999999967, 21.0, 21.0, 21.0, 21.0, 21.0, 21.0, 21.0, 21.000000061716666, 21.000000104999998, 21.0, 37.778188889999896, 21.0, 21.0, 21.0, 21.0, 21.0, 21.0, 21.0, 21.0, 21.0, 21.0, 19.5231, 21.0, 39.0, 39.0, 60.480000000000054, 31.680000000000028, 158.00925000000004, 82.76675000000003, 21.00000947624786, 21.0, 20.999790000000033, 21.0, 21.0, 21.000008951714758, 21.0, 21.0, 21.0, 21.0, 21.0, 21.0, 21.0, 21.000011211663676, 20.253160364000014, 21.00000037905, 21.0, 21.0, 21.0, 21.00035000000001, 21.0, 20.912079999999946, 21.0, 21.0, 21.0, 21.0, 21.0, 21.0, 21.0, 21.0, 21.0, 21.0000000000001, 21.0, 21.0, 21.0000000000001, 21.0, 21.0000000000001, 21.0, 21.0, 21.0, 21.0, 21.0, 21.0, 20.72434000000004, 21.0, 21.0, 21.0, 21.000000011666668, 20.999699614318242, 20.99965011713529, 21.0, 21.0000000000001, 21.0, 21.0, 21.0, 21.0, 21.0, 21.0, 21.0, 21.0, 21.0, 21.0, 21.0, 21.0, 21.0, 21.0, 21.0, 21.0, 21.0, 21.0, 20.999930000000077, 21.0, 21.0, 21.0000000000001, 21.0, 15.16640000000001, 15.166799999999967, 15.166400000000067, 15.166400000000067, 15.166799999999967, 15.166799999999967, 15.166400000000067, 15.166400000000067, 15.166799999999967, 15.166799999999967, 50.17945586499985, 15.16680000000008, 15.166799999999967, 15.16680000000008, 15.16680000000008, 15.16680000000008, 15.16680000000008, 15.16680000000008, 15.16680000000008, 15.16680000000008, 15.16680000000008, 50.17972627500017)\n"
     ]
    }
   ],
   "source": [
    "from lxml import etree\n",
    "import xgbxml\n",
    "\n",
    "parser=xgbxml.get_parser()  # default is gbXML version 6.01\n",
    "\n",
    "tree=etree.parse('gbXMLStandard.xml', parser)\n",
    "gbxml=tree.getroot()\n",
    "surface_areas=gbxml.Campus.Surfaces.Openings.get_area()\n",
    "\n",
    "print(len(surface_areas))\n",
    "# prints \"138\"\n",
    "\n",
    "print(type(surface_areas))\n",
    "# prints \"<class 'tuple'>\"\n",
    "\n",
    "print(surface_areas)\n",
    "# prints \"(21.0, 21.000000056466668, 21.0, ...)\""
   ]
  }
 ],
 "metadata": {
  "kernelspec": {
   "display_name": "Python 3 (ipykernel)",
   "language": "python",
   "name": "python3"
  },
  "language_info": {
   "codemirror_mode": {
    "name": "ipython",
    "version": 3
   },
   "file_extension": ".py",
   "mimetype": "text/x-python",
   "name": "python",
   "nbconvert_exporter": "python",
   "pygments_lexer": "ipython3",
   "version": "3.9.7"
  }
 },
 "nbformat": 4,
 "nbformat_minor": 5
}
