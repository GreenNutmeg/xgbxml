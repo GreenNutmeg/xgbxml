{
 "cells": [
  {
   "cell_type": "markdown",
   "id": "dd5b1d99",
   "metadata": {},
   "source": [
    "# gbCollection"
   ]
  },
  {
   "cell_type": "code",
   "execution_count": 1,
   "id": "a7a646d1",
   "metadata": {},
   "outputs": [
    {
     "name": "stdout",
     "output_type": "stream",
     "text": [
      "gbCollection(<Building (id=\"aim0013\")>)\n",
      "<class 'xgbxml.xgbxml.gbCollection'>\n"
     ]
    }
   ],
   "source": [
    "from lxml import etree\n",
    "import xgbxml\n",
    "\n",
    "parser=xgbxml.get_parser()  # default is gbXML version 6.01\n",
    "\n",
    "tree=etree.parse('gbXMLStandard.xml', parser)\n",
    "gbxml=tree.getroot()\n",
    "buildings=gbxml.Campus.Buildings\n",
    "print(buildings)\n",
    "\n",
    "print(type(buildings))"
   ]
  },
  {
   "cell_type": "code",
   "execution_count": null,
   "id": "41ffde94",
   "metadata": {},
   "outputs": [],
   "source": []
  },
  {
   "cell_type": "code",
   "execution_count": null,
   "id": "6a824a49",
   "metadata": {},
   "outputs": [],
   "source": []
  },
  {
   "cell_type": "code",
   "execution_count": null,
   "id": "276f0459",
   "metadata": {},
   "outputs": [],
   "source": []
  }
 ],
 "metadata": {
  "kernelspec": {
   "display_name": "Python 3 (ipykernel)",
   "language": "python",
   "name": "python3"
  },
  "language_info": {
   "codemirror_mode": {
    "name": "ipython",
    "version": 3
   },
   "file_extension": ".py",
   "mimetype": "text/x-python",
   "name": "python",
   "nbconvert_exporter": "python",
   "pygments_lexer": "ipython3",
   "version": "3.9.7"
  }
 },
 "nbformat": 4,
 "nbformat_minor": 5
}
