{
 "cells": [
  {
   "cell_type": "markdown",
   "id": "7c4bfcf3",
   "metadata": {},
   "source": [
    "# How do I create a new gbXML file?\n",
    "\n",
    "This notebook demonstrates how to create a new gbXML file using the Python package xgbxml.\n"
   ]
  },
  {
   "cell_type": "markdown",
   "id": "39c93122",
   "metadata": {},
   "source": [
    "## Using the `create_gbXML` function"
   ]
  },
  {
   "cell_type": "code",
   "execution_count": 10,
   "id": "4731f6c1",
   "metadata": {},
   "outputs": [
    {
     "name": "stdout",
     "output_type": "stream",
     "text": [
      "<class 'xgbxml.xgbxml.gbXML'>\n",
      "<gbXML xmlns=\"http://www.gbxml.org/schema\" version=\"6.01\" temperatureUnit=\"C\" lengthUnit=\"Meters\" areaUnit=\"SquareMeters\" volumeUnit=\"CubicMeters\" useSIUnitsForResults=\"true\"/>\n",
      "\n",
      "<class 'lxml.etree._ElementTree'>\n"
     ]
    }
   ],
   "source": [
    "import xgbxml\n",
    "gbxml=xgbxml.create_gbXML()\n",
    "\n",
    "print(type(gbxml))\n",
    "# prints \"<class 'xgbxml.xgbxml.gbXML'>\"\n",
    "\n",
    "print(gbxml.tostring())\n",
    "# prints \"<gbXML xmlns=\"http://www.gbxml.org/schema\" version=\"6.01\" temperatureUnit=\"C\" \n",
    "#                lengthUnit=\"Meters\" areaUnit=\"SquareMeters\" volumeUnit=\"CubicMeters\" \n",
    "#                useSIUnitsForResults=\"true\"/>\n",
    "\n",
    "print(type(gbxml.getroottree()))\n",
    "# prints \"<class 'lxml.etree._ElementTree'>\"\n"
   ]
  },
  {
   "cell_type": "code",
   "execution_count": null,
   "id": "0887e733",
   "metadata": {},
   "outputs": [],
   "source": []
  },
  {
   "cell_type": "code",
   "execution_count": null,
   "id": "084355d8",
   "metadata": {},
   "outputs": [],
   "source": []
  },
  {
   "cell_type": "markdown",
   "id": "805154c1",
   "metadata": {},
   "source": [
    "## Opening a gbXML file using lxml"
   ]
  },
  {
   "cell_type": "code",
   "execution_count": 1,
   "id": "46a364cb",
   "metadata": {},
   "outputs": [
    {
     "name": "stdout",
     "output_type": "stream",
     "text": [
      "<class 'lxml.etree._Element'>\n",
      "1159\n",
      "{'useSIUnitsForResults': 'false', 'temperatureUnit': 'C', 'lengthUnit': 'Feet', 'areaUnit': 'SquareFeet', 'volumeUnit': 'CubicFeet', 'version': '0.37'}\n"
     ]
    }
   ],
   "source": [
    "from lxml import etree\n",
    "\n",
    "tree=etree.parse('gbXMLStandard.xml')\n",
    "gbxml=tree.getroot()\n",
    "\n",
    "print(type(gbxml))        # prints \"<class 'lxml.etree._Element'>\"\n",
    "\n",
    "print(len(list(gbxml)))   # prints \"1159\" \n",
    "\n",
    "print (gbxml.attrib)      # prints \"{'useSIUnitsForResults': 'false', 'temperatureUnit': 'C', 'lengthUnit': 'Feet', \n",
    "                          #          'areaUnit': 'SquareFeet', 'volumeUnit': 'CubicFeet', 'version': '0.37'}\""
   ]
  },
  {
   "cell_type": "markdown",
   "id": "6efa51ad",
   "metadata": {},
   "source": [
    "## Opening a gbXML file using xgbxml"
   ]
  },
  {
   "cell_type": "code",
   "execution_count": 5,
   "id": "a714b7dd",
   "metadata": {},
   "outputs": [
    {
     "name": "stdout",
     "output_type": "stream",
     "text": [
      "<class 'xgbxml.xgbxml.gbXML'>\n",
      "1159\n",
      "{'useSIUnitsForResults': 'false', 'temperatureUnit': 'C', 'lengthUnit': 'Feet', 'areaUnit': 'SquareFeet', 'volumeUnit': 'CubicFeet', 'version': '0.37'}\n"
     ]
    }
   ],
   "source": [
    "from lxml import etree\n",
    "import xgbxml\n",
    "\n",
    "parser=xgbxml.get_parser('0.37')   \n",
    "\n",
    "tree=etree.parse('gbXMLStandard.xml', parser)\n",
    "gbxml=tree.getroot()\n",
    "\n",
    "print(type(gbxml))        # prints \"<class 'xgbxml.xgbxml.gbXML'>\"\n",
    "\n",
    "print(len(list(gbxml)))   # prints \"1159\" \n",
    "\n",
    "print (gbxml.attrib)      # prints \"{'useSIUnitsForResults': 'false', 'temperatureUnit': 'C', 'lengthUnit': 'Feet', \n",
    "                          #          'areaUnit': 'SquareFeet', 'volumeUnit': 'CubicFeet', 'version': '0.37'}\""
   ]
  }
 ],
 "metadata": {
  "kernelspec": {
   "display_name": "Python 3 (ipykernel)",
   "language": "python",
   "name": "python3"
  },
  "language_info": {
   "codemirror_mode": {
    "name": "ipython",
    "version": 3
   },
   "file_extension": ".py",
   "mimetype": "text/x-python",
   "name": "python",
   "nbconvert_exporter": "python",
   "pygments_lexer": "ipython3",
   "version": "3.9.7"
  }
 },
 "nbformat": 4,
 "nbformat_minor": 5
}
