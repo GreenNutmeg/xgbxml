{
 "cells": [
  {
   "cell_type": "markdown",
   "id": "7c4bfcf3",
   "metadata": {},
   "source": [
    "# How do I create a new gbXML file?\n",
    "\n",
    "This notebook demonstrates how to create a new gbXML file using the Python package xgbxml.\n"
   ]
  },
  {
   "cell_type": "markdown",
   "id": "39c93122",
   "metadata": {},
   "source": [
    "## Using the `create_gbXML` function"
   ]
  },
  {
   "cell_type": "code",
   "execution_count": 10,
   "id": "4731f6c1",
   "metadata": {},
   "outputs": [
    {
     "name": "stdout",
     "output_type": "stream",
     "text": [
      "<class 'xgbxml.xgbxml.gbXML'>\n",
      "<gbXML xmlns=\"http://www.gbxml.org/schema\" version=\"6.01\" temperatureUnit=\"C\" lengthUnit=\"Meters\" areaUnit=\"SquareMeters\" volumeUnit=\"CubicMeters\" useSIUnitsForResults=\"true\"/>\n",
      "\n",
      "<class 'lxml.etree._ElementTree'>\n"
     ]
    }
   ],
   "source": [
    "import xgbxml\n",
    "gbxml=xgbxml.create_gbXML()\n",
    "\n",
    "print(type(gbxml))\n",
    "# prints \"<class 'xgbxml.xgbxml.gbXML'>\"\n",
    "\n",
    "print(gbxml.tostring())\n",
    "# prints \"<gbXML xmlns=\"http://www.gbxml.org/schema\" version=\"6.01\" temperatureUnit=\"C\" \n",
    "#                lengthUnit=\"Meters\" areaUnit=\"SquareMeters\" volumeUnit=\"CubicMeters\" \n",
    "#                useSIUnitsForResults=\"true\"/>\n",
    "\n",
    "print(type(gbxml.getroottree()))\n",
    "# prints \"<class 'lxml.etree._ElementTree'>\"\n"
   ]
  },
  {
   "cell_type": "markdown",
   "id": "1b42533c",
   "metadata": {},
   "source": [
    "## Adding more elements"
   ]
  },
  {
   "cell_type": "code",
   "execution_count": 2,
   "id": "fce1c3e7",
   "metadata": {},
   "outputs": [
    {
     "name": "stdout",
     "output_type": "stream",
     "text": [
      "<gbXML xmlns=\"http://www.gbxml.org/schema\" version=\"6.01\" temperatureUnit=\"C\" lengthUnit=\"Meters\" areaUnit=\"SquareMeters\" volumeUnit=\"CubicMeters\" useSIUnitsForResults=\"true\">\n",
      "  <Campus id=\"my_campus\">\n",
      "    <Building id=\"my_building1\"/>\n",
      "  </Campus>\n",
      "</gbXML>\n",
      "\n"
     ]
    }
   ],
   "source": [
    "import xgbxml\n",
    "gbxml=xgbxml.create_gbXML()\n",
    "campus=gbxml.add_Campus(id='my_campus')\n",
    "building1=campus.add_Building(id='my_building1')\n",
    "print(gbxml.tostring())\n",
    "# prints ...\n",
    "# <gbXML xmlns=\"http://www.gbxml.org/schema\" version=\"6.01\" temperatureUnit=\"C\" lengthUnit=\"Meters\" areaUnit=\"SquareMeters\" volumeUnit=\"CubicMeters\" useSIUnitsForResults=\"true\">\n",
    "#   <Campus id=\"my_campus\">\n",
    "#     <Building id=\"my_building1\"/>\n",
    "#   </Campus>\n",
    "# </gbXML>\n"
   ]
  },
  {
   "cell_type": "markdown",
   "id": "1477c7e5",
   "metadata": {},
   "source": [
    "## Saving the gbXML file"
   ]
  },
  {
   "cell_type": "code",
   "execution_count": 4,
   "id": "ac116461",
   "metadata": {},
   "outputs": [],
   "source": [
    "import xgbxml\n",
    "gbxml=xgbxml.create_gbXML()\n",
    "tree=gbxml.getroottree()\n",
    "tree.write('new_gbxml_file.xml')"
   ]
  }
 ],
 "metadata": {
  "kernelspec": {
   "display_name": "Python 3 (ipykernel)",
   "language": "python",
   "name": "python3"
  },
  "language_info": {
   "codemirror_mode": {
    "name": "ipython",
    "version": 3
   },
   "file_extension": ".py",
   "mimetype": "text/x-python",
   "name": "python",
   "nbconvert_exporter": "python",
   "pygments_lexer": "ipython3",
   "version": "3.9.7"
  }
 },
 "nbformat": 4,
 "nbformat_minor": 5
}
